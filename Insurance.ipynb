{
 "cells": [
  {
   "cell_type": "markdown",
   "id": "647a6145-62c5-4b5b-952d-2670025ae490",
   "metadata": {},
   "source": [
    "## Purpose"
   ]
  },
  {
   "cell_type": "markdown",
   "id": "79d236c5-e865-46db-a2a0-ec9a0ba66a71",
   "metadata": {},
   "source": [
    "The aim of this study is to make a model which can accurately predict the medical insurance charges of a person based on their: <br>\n",
    "- age: age of primary beneficiary\n",
    "- bmi: Body mass index, providing an understanding of body, weights that are relatively high or low relative to height, objective index of body weight (kg / m ^ 2) using the ratio of height to weight, ideally 18.5 to 24.9\n",
    "- sex: insurance contractor gender, female, male\n",
    "- children: Number of children covered by health insurance / Number of dependents\n",
    "- smoker: Smoking\n",
    "- region: the beneficiary's residential area in the US, northeast, southeast, southwest, northwest.\n",
    "- charges: Individual medical costs billed by health insurancee.nkwuranceurance"
   ]
  },
  {
   "cell_type": "markdown",
   "id": "49IkR2RAV6W_",
   "metadata": {
    "id": "49IkR2RAV6W_"
   },
   "source": [
    "## Imports"
   ]
  },
  {
   "cell_type": "code",
   "execution_count": 28,
   "id": "bb8d6cb9",
   "metadata": {
    "id": "bb8d6cb9"
   },
   "outputs": [],
   "source": [
    "import pandas as pd\n",
    "from sklearn.compose import ColumnTransformer\n",
    "from sklearn.pipeline import Pipeline\n",
    "from sklearn.preprocessing import StandardScaler, OneHotEncoder\n",
    "from sklearn.linear_model import LinearRegression, Ridge, Lasso, ElasticNet\n",
    "from sklearn.model_selection import train_test_split\n",
    "from sklearn.preprocessing import PolynomialFeatures\n",
    "from sklearn.tree import DecisionTreeRegressor\n",
    "from sklearn.ensemble import BaggingRegressor\n",
    "from sklearn.model_selection import GridSearchCV\n",
    "from sklearn.metrics import mean_squared_error\n",
    "import numpy as np\n",
    "\n",
    "from xgboost import XGBRegressor\n",
    "import warnings\n",
    "warnings.filterwarnings('ignore')"
   ]
  },
  {
   "cell_type": "markdown",
   "id": "Tyh8M5cCqcmo",
   "metadata": {
    "id": "Tyh8M5cCqcmo"
   },
   "source": [
    "## Data exploration"
   ]
  },
  {
   "cell_type": "code",
   "execution_count": 29,
   "id": "ceb15cf9-20ba-455c-8226-e857a22d181e",
   "metadata": {},
   "outputs": [
    {
     "name": "stdout",
     "output_type": "stream",
     "text": [
      "<class 'pandas.core.frame.DataFrame'>\n",
      "RangeIndex: 1338 entries, 0 to 1337\n",
      "Data columns (total 7 columns):\n",
      " #   Column    Non-Null Count  Dtype  \n",
      "---  ------    --------------  -----  \n",
      " 0   age       1338 non-null   int64  \n",
      " 1   sex       1338 non-null   object \n",
      " 2   bmi       1338 non-null   float64\n",
      " 3   children  1338 non-null   int64  \n",
      " 4   smoker    1338 non-null   object \n",
      " 5   region    1338 non-null   object \n",
      " 6   charges   1338 non-null   float64\n",
      "dtypes: float64(2), int64(2), object(3)\n",
      "memory usage: 73.3+ KB\n"
     ]
    }
   ],
   "source": [
    "df.info()"
   ]
  },
  {
   "cell_type": "code",
   "execution_count": 30,
   "id": "06ba20ba",
   "metadata": {
    "colab": {
     "base_uri": "https://localhost:8080/",
     "height": 206
    },
    "id": "06ba20ba",
    "outputId": "03f369a0-5b21-4d96-88d0-2ee3aa5e7fd2"
   },
   "outputs": [
    {
     "data": {
      "text/html": [
       "<div>\n",
       "<style scoped>\n",
       "    .dataframe tbody tr th:only-of-type {\n",
       "        vertical-align: middle;\n",
       "    }\n",
       "\n",
       "    .dataframe tbody tr th {\n",
       "        vertical-align: top;\n",
       "    }\n",
       "\n",
       "    .dataframe thead th {\n",
       "        text-align: right;\n",
       "    }\n",
       "</style>\n",
       "<table border=\"1\" class=\"dataframe\">\n",
       "  <thead>\n",
       "    <tr style=\"text-align: right;\">\n",
       "      <th></th>\n",
       "      <th>age</th>\n",
       "      <th>sex</th>\n",
       "      <th>bmi</th>\n",
       "      <th>children</th>\n",
       "      <th>smoker</th>\n",
       "      <th>region</th>\n",
       "      <th>charges</th>\n",
       "    </tr>\n",
       "  </thead>\n",
       "  <tbody>\n",
       "    <tr>\n",
       "      <th>0</th>\n",
       "      <td>19</td>\n",
       "      <td>female</td>\n",
       "      <td>27.900</td>\n",
       "      <td>0</td>\n",
       "      <td>yes</td>\n",
       "      <td>southwest</td>\n",
       "      <td>16884.92400</td>\n",
       "    </tr>\n",
       "    <tr>\n",
       "      <th>1</th>\n",
       "      <td>18</td>\n",
       "      <td>male</td>\n",
       "      <td>33.770</td>\n",
       "      <td>1</td>\n",
       "      <td>no</td>\n",
       "      <td>southeast</td>\n",
       "      <td>1725.55230</td>\n",
       "    </tr>\n",
       "    <tr>\n",
       "      <th>2</th>\n",
       "      <td>28</td>\n",
       "      <td>male</td>\n",
       "      <td>33.000</td>\n",
       "      <td>3</td>\n",
       "      <td>no</td>\n",
       "      <td>southeast</td>\n",
       "      <td>4449.46200</td>\n",
       "    </tr>\n",
       "    <tr>\n",
       "      <th>3</th>\n",
       "      <td>33</td>\n",
       "      <td>male</td>\n",
       "      <td>22.705</td>\n",
       "      <td>0</td>\n",
       "      <td>no</td>\n",
       "      <td>northwest</td>\n",
       "      <td>21984.47061</td>\n",
       "    </tr>\n",
       "    <tr>\n",
       "      <th>4</th>\n",
       "      <td>32</td>\n",
       "      <td>male</td>\n",
       "      <td>28.880</td>\n",
       "      <td>0</td>\n",
       "      <td>no</td>\n",
       "      <td>northwest</td>\n",
       "      <td>3866.85520</td>\n",
       "    </tr>\n",
       "  </tbody>\n",
       "</table>\n",
       "</div>"
      ],
      "text/plain": [
       "   age     sex     bmi  children smoker     region      charges\n",
       "0   19  female  27.900         0    yes  southwest  16884.92400\n",
       "1   18    male  33.770         1     no  southeast   1725.55230\n",
       "2   28    male  33.000         3     no  southeast   4449.46200\n",
       "3   33    male  22.705         0     no  northwest  21984.47061\n",
       "4   32    male  28.880         0     no  northwest   3866.85520"
      ]
     },
     "execution_count": 30,
     "metadata": {},
     "output_type": "execute_result"
    }
   ],
   "source": [
    "df=pd.read_csv(\"insurance.csv\")\n",
    "df.head()"
   ]
  },
  {
   "cell_type": "code",
   "execution_count": 31,
   "id": "d79d615f-d2fb-4e10-a7ca-ed0ec5256285",
   "metadata": {},
   "outputs": [
    {
     "data": {
      "text/plain": [
       "age         0\n",
       "sex         0\n",
       "bmi         0\n",
       "children    0\n",
       "smoker      0\n",
       "region      0\n",
       "charges     0\n",
       "dtype: int64"
      ]
     },
     "execution_count": 31,
     "metadata": {},
     "output_type": "execute_result"
    }
   ],
   "source": [
    "df.isnull().sum()"
   ]
  },
  {
   "cell_type": "markdown",
   "id": "629643c2-ed01-44a5-99be-800ee1c64daa",
   "metadata": {},
   "source": [
    "We check for missing values because they can negatively impact model performance.Some models do not handle missing values well, leading to inaccurate predictions. Luckily there are not NA values, a good day :)\n"
   ]
  },
  {
   "cell_type": "code",
   "execution_count": 32,
   "id": "33e046cc",
   "metadata": {
    "id": "33e046cc"
   },
   "outputs": [],
   "source": [
    "X=df.drop(\"charges\",axis=1)\n",
    "y=df[\"charges\"]"
   ]
  },
  {
   "cell_type": "markdown",
   "id": "Ho7izasiqhKw",
   "metadata": {
    "id": "Ho7izasiqhKw"
   },
   "source": [
    "## Data pre-processing pipeline"
   ]
  },
  {
   "cell_type": "markdown",
   "id": "LTfymVTZUjeZ",
   "metadata": {
    "id": "LTfymVTZUjeZ"
   },
   "source": [
    "### Seperation of the categorical and numerical columns"
   ]
  },
  {
   "cell_type": "code",
   "execution_count": 33,
   "id": "3f4a8a8d",
   "metadata": {
    "id": "3f4a8a8d"
   },
   "outputs": [],
   "source": [
    "numerical_cols = X.select_dtypes(include=[\"int64\", \"float64\"]).columns\n",
    "categorical_cols =X.select_dtypes(include=[\"object\"]).columns\n"
   ]
  },
  {
   "cell_type": "markdown",
   "id": "dadb086b-96ec-4428-b4d0-0c5838aca4c1",
   "metadata": {},
   "source": [
    "The code snippet allows us to seperate the columns containing categorical and numerical columns very easily"
   ]
  },
  {
   "cell_type": "markdown",
   "id": "3b0d70FRUqIx",
   "metadata": {
    "id": "3b0d70FRUqIx"
   },
   "source": [
    "### Preprocessor pipelines"
   ]
  },
  {
   "cell_type": "code",
   "execution_count": 34,
   "id": "637aed51",
   "metadata": {
    "id": "637aed51"
   },
   "outputs": [],
   "source": [
    "preprocessor=ColumnTransformer([\n",
    "    (\"num\", StandardScaler(),numerical_cols),\n",
    "    (\"cat\", OneHotEncoder(drop='first',sparse_output=False), categorical_cols),\n",
    "])\n",
    "\n",
    "preprocessor_poly=ColumnTransformer([\n",
    "    (\"num\",Pipeline(steps=[(\"poly\", PolynomialFeatures(degree=2,include_bias=False)),(\"num\",StandardScaler()), ]), numerical_cols),\n",
    "    (\"cat\", OneHotEncoder(drop='first', sparse_output=False), categorical_cols),])"
   ]
  },
  {
   "cell_type": "markdown",
   "id": "7126decc-1457-43ca-aa70-fb34334dff27",
   "metadata": {},
   "source": [
    "ColumnTransformer helps us handle different data types (numerical and categorical) in a single pipeline efficiently.\n",
    "- StandardScaler normalizes numerical features to a common scale, which improves model convergence and performance.\n",
    "-  OneHotEncoder transforms categorical features into variables suitable forlinear regression model.\n",
    "    -  We use 'drop='first'' to avoid the dummy variable trap"
   ]
  },
  {
   "cell_type": "markdown",
   "id": "wWpQWneqUx5i",
   "metadata": {
    "id": "wWpQWneqUx5i"
   },
   "source": [
    "### Train, test split"
   ]
  },
  {
   "cell_type": "code",
   "execution_count": 35,
   "id": "TQ5toA0Vqp8z",
   "metadata": {
    "id": "TQ5toA0Vqp8z"
   },
   "outputs": [],
   "source": [
    "X_train, X_test, y_train, y_test = train_test_split(X, y, test_size=0.2, random_state=42)"
   ]
  },
  {
   "cell_type": "markdown",
   "id": "i_z48vueTkjr",
   "metadata": {
    "id": "i_z48vueTkjr"
   },
   "source": [
    "## Finding the best performing model"
   ]
  },
  {
   "cell_type": "code",
   "execution_count": 36,
   "id": "uvTti36oCoFC",
   "metadata": {
    "colab": {
     "base_uri": "https://localhost:8080/",
     "height": 393
    },
    "id": "uvTti36oCoFC",
    "outputId": "3c38867d-ebee-465e-91ca-31cd188d9f7c"
   },
   "outputs": [
    {
     "name": "stdout",
     "output_type": "stream",
     "text": [
      "lin_reg RMSE:5796.284659276275\n",
      "ridge_regression RMSE:5821.574140942559\n",
      "lasso_regression RMSE:5800.079215603098\n",
      "polynomial_features RMSE:5841.28018590557\n",
      "bagging_regressor RMSE:4445.24162178276\n",
      "xgboost_regressor RMSE:4294.171968597672\n",
      "#####################################################\n",
      "the best performing model is:\n"
     ]
    },
    {
     "data": {
      "text/html": [
       "<style>#sk-container-id-4 {color: black;}#sk-container-id-4 pre{padding: 0;}#sk-container-id-4 div.sk-toggleable {background-color: white;}#sk-container-id-4 label.sk-toggleable__label {cursor: pointer;display: block;width: 100%;margin-bottom: 0;padding: 0.3em;box-sizing: border-box;text-align: center;}#sk-container-id-4 label.sk-toggleable__label-arrow:before {content: \"▸\";float: left;margin-right: 0.25em;color: #696969;}#sk-container-id-4 label.sk-toggleable__label-arrow:hover:before {color: black;}#sk-container-id-4 div.sk-estimator:hover label.sk-toggleable__label-arrow:before {color: black;}#sk-container-id-4 div.sk-toggleable__content {max-height: 0;max-width: 0;overflow: hidden;text-align: left;background-color: #f0f8ff;}#sk-container-id-4 div.sk-toggleable__content pre {margin: 0.2em;color: black;border-radius: 0.25em;background-color: #f0f8ff;}#sk-container-id-4 input.sk-toggleable__control:checked~div.sk-toggleable__content {max-height: 200px;max-width: 100%;overflow: auto;}#sk-container-id-4 input.sk-toggleable__control:checked~label.sk-toggleable__label-arrow:before {content: \"▾\";}#sk-container-id-4 div.sk-estimator input.sk-toggleable__control:checked~label.sk-toggleable__label {background-color: #d4ebff;}#sk-container-id-4 div.sk-label input.sk-toggleable__control:checked~label.sk-toggleable__label {background-color: #d4ebff;}#sk-container-id-4 input.sk-hidden--visually {border: 0;clip: rect(1px 1px 1px 1px);clip: rect(1px, 1px, 1px, 1px);height: 1px;margin: -1px;overflow: hidden;padding: 0;position: absolute;width: 1px;}#sk-container-id-4 div.sk-estimator {font-family: monospace;background-color: #f0f8ff;border: 1px dotted black;border-radius: 0.25em;box-sizing: border-box;margin-bottom: 0.5em;}#sk-container-id-4 div.sk-estimator:hover {background-color: #d4ebff;}#sk-container-id-4 div.sk-parallel-item::after {content: \"\";width: 100%;border-bottom: 1px solid gray;flex-grow: 1;}#sk-container-id-4 div.sk-label:hover label.sk-toggleable__label {background-color: #d4ebff;}#sk-container-id-4 div.sk-serial::before {content: \"\";position: absolute;border-left: 1px solid gray;box-sizing: border-box;top: 0;bottom: 0;left: 50%;z-index: 0;}#sk-container-id-4 div.sk-serial {display: flex;flex-direction: column;align-items: center;background-color: white;padding-right: 0.2em;padding-left: 0.2em;position: relative;}#sk-container-id-4 div.sk-item {position: relative;z-index: 1;}#sk-container-id-4 div.sk-parallel {display: flex;align-items: stretch;justify-content: center;background-color: white;position: relative;}#sk-container-id-4 div.sk-item::before, #sk-container-id-4 div.sk-parallel-item::before {content: \"\";position: absolute;border-left: 1px solid gray;box-sizing: border-box;top: 0;bottom: 0;left: 50%;z-index: -1;}#sk-container-id-4 div.sk-parallel-item {display: flex;flex-direction: column;z-index: 1;position: relative;background-color: white;}#sk-container-id-4 div.sk-parallel-item:first-child::after {align-self: flex-end;width: 50%;}#sk-container-id-4 div.sk-parallel-item:last-child::after {align-self: flex-start;width: 50%;}#sk-container-id-4 div.sk-parallel-item:only-child::after {width: 0;}#sk-container-id-4 div.sk-dashed-wrapped {border: 1px dashed gray;margin: 0 0.4em 0.5em 0.4em;box-sizing: border-box;padding-bottom: 0.4em;background-color: white;}#sk-container-id-4 div.sk-label label {font-family: monospace;font-weight: bold;display: inline-block;line-height: 1.2em;}#sk-container-id-4 div.sk-label-container {text-align: center;}#sk-container-id-4 div.sk-container {/* jupyter's `normalize.less` sets `[hidden] { display: none; }` but bootstrap.min.css set `[hidden] { display: none !important; }` so we also need the `!important` here to be able to override the default hidden behavior on the sphinx rendered scikit-learn.org. See: https://github.com/scikit-learn/scikit-learn/issues/21755 */display: inline-block !important;position: relative;}#sk-container-id-4 div.sk-text-repr-fallback {display: none;}</style><div id=\"sk-container-id-4\" class=\"sk-top-container\"><div class=\"sk-text-repr-fallback\"><pre>XGBRegressor(base_score=None, booster=None, callbacks=None,\n",
       "             colsample_bylevel=None, colsample_bynode=None,\n",
       "             colsample_bytree=None, device=None, early_stopping_rounds=None,\n",
       "             enable_categorical=False, eval_metric=None, feature_types=None,\n",
       "             gamma=None, grow_policy=None, importance_type=None,\n",
       "             interaction_constraints=None, learning_rate=None, max_bin=None,\n",
       "             max_cat_threshold=None, max_cat_to_onehot=None,\n",
       "             max_delta_step=None, max_depth=3, max_leaves=None,\n",
       "             min_child_weight=None, missing=nan, monotone_constraints=None,\n",
       "             multi_strategy=None, n_estimators=10, n_jobs=None,\n",
       "             num_parallel_tree=None, random_state=None, ...)</pre><b>In a Jupyter environment, please rerun this cell to show the HTML representation or trust the notebook. <br />On GitHub, the HTML representation is unable to render, please try loading this page with nbviewer.org.</b></div><div class=\"sk-container\" hidden><div class=\"sk-item\"><div class=\"sk-estimator sk-toggleable\"><input class=\"sk-toggleable__control sk-hidden--visually\" id=\"sk-estimator-id-4\" type=\"checkbox\" checked><label for=\"sk-estimator-id-4\" class=\"sk-toggleable__label sk-toggleable__label-arrow\">XGBRegressor</label><div class=\"sk-toggleable__content\"><pre>XGBRegressor(base_score=None, booster=None, callbacks=None,\n",
       "             colsample_bylevel=None, colsample_bynode=None,\n",
       "             colsample_bytree=None, device=None, early_stopping_rounds=None,\n",
       "             enable_categorical=False, eval_metric=None, feature_types=None,\n",
       "             gamma=None, grow_policy=None, importance_type=None,\n",
       "             interaction_constraints=None, learning_rate=None, max_bin=None,\n",
       "             max_cat_threshold=None, max_cat_to_onehot=None,\n",
       "             max_delta_step=None, max_depth=3, max_leaves=None,\n",
       "             min_child_weight=None, missing=nan, monotone_constraints=None,\n",
       "             multi_strategy=None, n_estimators=10, n_jobs=None,\n",
       "             num_parallel_tree=None, random_state=None, ...)</pre></div></div></div></div></div>"
      ],
      "text/plain": [
       "XGBRegressor(base_score=None, booster=None, callbacks=None,\n",
       "             colsample_bylevel=None, colsample_bynode=None,\n",
       "             colsample_bytree=None, device=None, early_stopping_rounds=None,\n",
       "             enable_categorical=False, eval_metric=None, feature_types=None,\n",
       "             gamma=None, grow_policy=None, importance_type=None,\n",
       "             interaction_constraints=None, learning_rate=None, max_bin=None,\n",
       "             max_cat_threshold=None, max_cat_to_onehot=None,\n",
       "             max_delta_step=None, max_depth=3, max_leaves=None,\n",
       "             min_child_weight=None, missing=nan, monotone_constraints=None,\n",
       "             multi_strategy=None, n_estimators=10, n_jobs=None,\n",
       "             num_parallel_tree=None, random_state=None, ...)"
      ]
     },
     "execution_count": 36,
     "metadata": {},
     "output_type": "execute_result"
    }
   ],
   "source": [
    "names=[\"lin_reg\",\"ridge_regression\",\"lasso_regression\",\"polynomial_features\",\"bagging_regressor\", \"xgboost_regressor\"]\n",
    "models=[LinearRegression(),\n",
    "        Ridge(alpha=5.0),\n",
    "        Lasso(alpha=5.0),\n",
    "        LinearRegression(),\n",
    "        BaggingRegressor(estimator=DecisionTreeRegressor(max_depth=3), n_estimators=10,  ),\n",
    "        XGBRegressor(n_estimators=10,max_depth=3,)]\n",
    "\n",
    "dict_of_models=dict(zip(names,models))\n",
    "def give_best(dict_of_models, X_train, X_test,y_train,y_test):\n",
    "  scores=[]\n",
    "  for model in dict_of_models.keys():\n",
    "      pipeline_func=Pipeline(steps=[\n",
    "          (\"preprocess\", preprocessor) if model!=\"polynomial_features\" else (\"preprocess\",preprocessor_poly),\n",
    "          (model,dict_of_models[model ])\n",
    "      ])\n",
    "      pipeline_func.fit( X_train,y_train)\n",
    "      y_predict= pipeline_func.predict(X_test)\n",
    "      rmse = np.sqrt(mean_squared_error(y_test, y_predict))\n",
    "      scores.append(rmse)\n",
    "      print(f\"{model} RMSE:{rmse}\")\n",
    "\n",
    "  return list(dict_of_models.values())[scores.index(min(scores))]\n",
    "\n",
    "best_model=give_best(dict_of_models, X_train, X_test,y_train,y_test)\n",
    "print(f\"#####################################################\")\n",
    "print(f\"the best performing model is:\")\n",
    "best_model"
   ]
  },
  {
   "cell_type": "markdown",
   "id": "89dbe12a-a9da-4b62-b9b0-ca3f6bc50510",
   "metadata": {},
   "source": [
    "Then **give_best** iterates through different models defined in the 'dict_of_models'dictionary. It builds pipelines that include preprocessing and the specific model for every model defined in the *dict_of_models* . The pipeline is then used to fit  the training data and used to make predictions on the testing data. Then, RMSE (Root Mean Squared Error) is calculated to evaluate the model's performance on the testing set. The function returns the best performing model based on the lowest RMSE score."
   ]
  },
  {
   "cell_type": "markdown",
   "id": "lKyP9cTQTp5x",
   "metadata": {
    "id": "lKyP9cTQTp5x"
   },
   "source": [
    "## Optimizing the best performing model using GridSearchCV"
   ]
  },
  {
   "cell_type": "code",
   "execution_count": 37,
   "id": "aaf5720b",
   "metadata": {
    "colab": {
     "base_uri": "https://localhost:8080/"
    },
    "id": "aaf5720b",
    "outputId": "0061c184-90ec-46a4-a452-f2dcffe7dcc3"
   },
   "outputs": [
    {
     "name": "stdout",
     "output_type": "stream",
     "text": [
      "Fitting 6 folds for each of 729 candidates, totalling 4374 fits\n",
      "Best Parameters: {'xgboost_regressor__colsample_bytree': 1.0, 'xgboost_regressor__eta': 0.1, 'xgboost_regressor__max_depth': 3, 'xgboost_regressor__n_estimators': 50, 'xgboost_regressor__reg_lambda': 1.0, 'xgboost_regressor__subsample': 1.0}\n",
      "Best RMSE (negative mean squared error): 4576.613260512437\n",
      "Test RMSE: 4246.596096089942\n"
     ]
    }
   ],
   "source": [
    "param_grid = {\n",
    "    'xgboost_regressor__n_estimators': [10, 50, 100],\n",
    "    'xgboost_regressor__max_depth': [3, 5, 10],\n",
    "    'xgboost_regressor__eta': [0.3, 0.1, 0.01],\n",
    "    'xgboost_regressor__subsample': [0.5, 0.7, 1.0],\n",
    "    \"xgboost_regressor__colsample_bytree\":[0.5, 0.7, 1.0],\n",
    "    \"xgboost_regressor__reg_lambda\":[0.5, 0.7, 1.0],\n",
    "}\n",
    "pipeline_to_grid_search=Pipeline(steps=[\n",
    "    (\"preprocess\", preprocessor),\n",
    "    (\"xgboost_regressor\",best_model )\n",
    "])\n",
    "grid_search = GridSearchCV(pipeline_to_grid_search,param_grid,cv=6, scoring='neg_mean_squared_error', n_jobs=-1,verbose=3)\n",
    "grid_search.fit(X_train,y_train)\n",
    "print(\"Best Parameters:\", grid_search.best_params_)\n",
    "print(\"Best RMSE (negative mean squared error):\", np.sqrt(-grid_search.best_score_))\n",
    "\n",
    "y_test_predict = grid_search.best_estimator_.predict(X_test)\n",
    "rmse_test = np.sqrt(mean_squared_error(y_test, y_test_predict))\n",
    "print(f\"Test RMSE: {rmse_test}\")\n"
   ]
  },
  {
   "cell_type": "markdown",
   "id": "AlyWLfGXSfsj",
   "metadata": {
    "id": "AlyWLfGXSfsj"
   },
   "source": [
    "## For experimentation"
   ]
  },
  {
   "cell_type": "markdown",
   "id": "GaCku04DSlHK",
   "metadata": {
    "id": "GaCku04DSlHK"
   },
   "source": [
    "### Linear regression"
   ]
  },
  {
   "cell_type": "code",
   "execution_count": 38,
   "id": "HSx8-Aj6SiEF",
   "metadata": {
    "colab": {
     "base_uri": "https://localhost:8080/"
    },
    "id": "HSx8-Aj6SiEF",
    "outputId": "5015f681-d01c-4ca4-a8fb-8a231e008c61"
   },
   "outputs": [
    {
     "data": {
      "text/plain": [
       "6105.545160099847"
      ]
     },
     "execution_count": 38,
     "metadata": {},
     "output_type": "execute_result"
    }
   ],
   "source": [
    "pipeline=Pipeline(steps=[\n",
    "    (\"preprocess\",preprocessor ),\n",
    "    (\"lin_reg\", LinearRegression()),\n",
    "\n",
    "])\n",
    "\n",
    "pipeline.fit(X_train, y_train)\n",
    "y_predict=pipeline.predict(X_train)\n",
    "mse=mean_squared_error(y_train, y_predict)\n",
    "rmse=np.sqrt(mse)\n",
    "rmse\n"
   ]
  },
  {
   "cell_type": "markdown",
   "id": "uq9ElZbTSnnP",
   "metadata": {
    "id": "uq9ElZbTSnnP"
   },
   "source": [
    "### Polynomial Regression"
   ]
  },
  {
   "cell_type": "code",
   "execution_count": 39,
   "id": "J3Hf99ZjSqtW",
   "metadata": {
    "id": "J3Hf99ZjSqtW"
   },
   "outputs": [
    {
     "data": {
      "text/plain": [
       "5841.28018590557"
      ]
     },
     "execution_count": 39,
     "metadata": {},
     "output_type": "execute_result"
    }
   ],
   "source": [
    "pipeline_poly=Pipeline(steps=[\n",
    "    (\"preprocess\",preprocessor_poly ),\n",
    "    (\"lin_reg\", LinearRegression()),\n",
    "\n",
    "])\n",
    "pipeline_poly.fit(X_train, y_train)\n",
    "y_predict=pipeline_poly.predict(X_test)\n",
    "rmse=np.sqrt(mean_squared_error(y_test,y_predict))\n",
    "rmse"
   ]
  },
  {
   "cell_type": "markdown",
   "id": "uIWA71K3Su7s",
   "metadata": {
    "id": "uIWA71K3Su7s"
   },
   "source": [
    "### Using Random Forest"
   ]
  },
  {
   "cell_type": "code",
   "execution_count": 40,
   "id": "qhjUuuF9SyMa",
   "metadata": {
    "id": "qhjUuuF9SyMa"
   },
   "outputs": [
    {
     "data": {
      "text/plain": [
       "4595.250603287242"
      ]
     },
     "execution_count": 40,
     "metadata": {},
     "output_type": "execute_result"
    }
   ],
   "source": [
    "base_reg = DecisionTreeRegressor(max_depth=3)\n",
    "pipeline_bagging = Pipeline( steps=[\n",
    "    (\"preprocess\", preprocessor),\n",
    "    (\"bagging_regressor\", BaggingRegressor(estimator=base_reg, n_estimators=10,  ))\n",
    "])\n",
    "pipeline_bagging.fit(X_train, y_train)\n",
    "y_predict=pipeline_bagging.predict(X_test)\n",
    "rmse=np.sqrt(mean_squared_error(y_test,y_predict))\n",
    "rmse"
   ]
  },
  {
   "cell_type": "markdown",
   "id": "V1OXlO_2S4n_",
   "metadata": {
    "id": "V1OXlO_2S4n_"
   },
   "source": [
    "### Using XGBoost"
   ]
  },
  {
   "cell_type": "code",
   "execution_count": 41,
   "id": "tx3ajQoVS6Ab",
   "metadata": {
    "colab": {
     "base_uri": "https://localhost:8080/"
    },
    "id": "tx3ajQoVS6Ab",
    "outputId": "7d9038a7-856e-40c0-ab72-802da768ba48"
   },
   "outputs": [
    {
     "name": "stdout",
     "output_type": "stream",
     "text": [
      "4294.171968597672\n"
     ]
    }
   ],
   "source": [
    "pipeline_xgboost = Pipeline(steps=[\n",
    "    (\"preprocess\", preprocessor),\n",
    "    (\"xgboost_regressor\", XGBRegressor(n_estimators=10,max_depth=3,))\n",
    "])\n",
    "\n",
    "pipeline_xgboost.fit(X_train, y_train)\n",
    "y_predict = pipeline_xgboost.predict(X_test)\n",
    "rmse = np.sqrt(mean_squared_error(y_test, y_predict))\n",
    "print(rmse)\n"
   ]
  }
 ],
 "metadata": {
  "colab": {
   "provenance": []
  },
  "kernelspec": {
   "display_name": "Python 3 (ipykernel)",
   "language": "python",
   "name": "python3"
  },
  "language_info": {
   "codemirror_mode": {
    "name": "ipython",
    "version": 3
   },
   "file_extension": ".py",
   "mimetype": "text/x-python",
   "name": "python",
   "nbconvert_exporter": "python",
   "pygments_lexer": "ipython3",
   "version": "3.11.3"
  }
 },
 "nbformat": 4,
 "nbformat_minor": 5
}
